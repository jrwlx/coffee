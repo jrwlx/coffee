{
 "cells": [
  {
   "cell_type": "markdown",
   "id": "35ec3bab",
   "metadata": {
    "papermill": {
     "duration": 0.005382,
     "end_time": "2023-03-10T19:07:54.112014",
     "exception": false,
     "start_time": "2023-03-10T19:07:54.106632",
     "status": "completed"
    },
    "tags": []
   },
   "source": [
    "implement linear regression"
   ]
  },
  {
   "cell_type": "code",
   "execution_count": 1,
   "id": "297d21a8",
   "metadata": {
    "_cell_guid": "b1076dfc-b9ad-4769-8c92-a6c4dae69d19",
    "_uuid": "8f2839f25d086af736a60e9eeb907d3b93b6e0e5",
    "execution": {
     "iopub.execute_input": "2023-03-10T19:07:54.123577Z",
     "iopub.status.busy": "2023-03-10T19:07:54.122031Z",
     "iopub.status.idle": "2023-03-10T19:07:54.143852Z",
     "shell.execute_reply": "2023-03-10T19:07:54.142506Z"
    },
    "papermill": {
     "duration": 0.030442,
     "end_time": "2023-03-10T19:07:54.146726",
     "exception": false,
     "start_time": "2023-03-10T19:07:54.116284",
     "status": "completed"
    },
    "tags": []
   },
   "outputs": [
    {
     "name": "stdout",
     "output_type": "stream",
     "text": [
      "/kaggle/input/coffee-reviews-dataset/simplified_coffee.csv\n",
      "/kaggle/input/coffee-reviews-dataset/coffee_analysis.csv\n"
     ]
    }
   ],
   "source": [
    "import os\n",
    "\n",
    "for dirname, _, filenames in os.walk('/kaggle/input'):\n",
    "    for filename in filenames:\n",
    "        print(os.path.join(dirname, filename))"
   ]
  },
  {
   "cell_type": "markdown",
   "id": "c574c715",
   "metadata": {
    "papermill": {
     "duration": 0.004054,
     "end_time": "2023-03-10T19:07:54.155299",
     "exception": false,
     "start_time": "2023-03-10T19:07:54.151245",
     "status": "completed"
    },
    "tags": []
   },
   "source": [
    "# Importing Data"
   ]
  },
  {
   "cell_type": "code",
   "execution_count": 2,
   "id": "06d3ca2d",
   "metadata": {
    "execution": {
     "iopub.execute_input": "2023-03-10T19:07:54.166316Z",
     "iopub.status.busy": "2023-03-10T19:07:54.165621Z",
     "iopub.status.idle": "2023-03-10T19:07:54.265079Z",
     "shell.execute_reply": "2023-03-10T19:07:54.263832Z"
    },
    "papermill": {
     "duration": 0.108274,
     "end_time": "2023-03-10T19:07:54.267922",
     "exception": false,
     "start_time": "2023-03-10T19:07:54.159648",
     "status": "completed"
    },
    "tags": []
   },
   "outputs": [],
   "source": [
    "import pandas as pd\n",
    "\n",
    "coffee = pd.read_csv('/kaggle/input/coffee-reviews-dataset/coffee_analysis.csv')"
   ]
  },
  {
   "cell_type": "code",
   "execution_count": 3,
   "id": "63a5b66d",
   "metadata": {
    "execution": {
     "iopub.execute_input": "2023-03-10T19:07:54.279058Z",
     "iopub.status.busy": "2023-03-10T19:07:54.278125Z",
     "iopub.status.idle": "2023-03-10T19:07:54.284332Z",
     "shell.execute_reply": "2023-03-10T19:07:54.283049Z"
    },
    "papermill": {
     "duration": 0.015643,
     "end_time": "2023-03-10T19:07:54.288013",
     "exception": false,
     "start_time": "2023-03-10T19:07:54.272370",
     "status": "completed"
    },
    "tags": []
   },
   "outputs": [
    {
     "name": "stdout",
     "output_type": "stream",
     "text": [
      "['name' 'roaster' 'roast' 'loc_country' 'origin_1' 'origin_2' '100g_USD'\n",
      " 'rating' 'review_date' 'desc_1' 'desc_2' 'desc_3']\n"
     ]
    }
   ],
   "source": [
    "print(coffee.columns.values)"
   ]
  },
  {
   "cell_type": "markdown",
   "id": "922fa84a",
   "metadata": {
    "papermill": {
     "duration": 0.004666,
     "end_time": "2023-03-10T19:07:54.298038",
     "exception": false,
     "start_time": "2023-03-10T19:07:54.293372",
     "status": "completed"
    },
    "tags": []
   },
   "source": [
    "# Preprocessing Data"
   ]
  },
  {
   "cell_type": "code",
   "execution_count": 4,
   "id": "bb5e710d",
   "metadata": {
    "execution": {
     "iopub.execute_input": "2023-03-10T19:07:54.309080Z",
     "iopub.status.busy": "2023-03-10T19:07:54.308670Z",
     "iopub.status.idle": "2023-03-10T19:07:54.322608Z",
     "shell.execute_reply": "2023-03-10T19:07:54.321593Z"
    },
    "papermill": {
     "duration": 0.022601,
     "end_time": "2023-03-10T19:07:54.325077",
     "exception": false,
     "start_time": "2023-03-10T19:07:54.302476",
     "status": "completed"
    },
    "tags": []
   },
   "outputs": [],
   "source": [
    "coffee_simple = coffee[['rating', '100g_USD']].copy()\n",
    "coffee_simple.rename(columns={'100g_USD': 'price'}, inplace=True)"
   ]
  },
  {
   "cell_type": "code",
   "execution_count": 5,
   "id": "80f738e6",
   "metadata": {
    "execution": {
     "iopub.execute_input": "2023-03-10T19:07:54.336636Z",
     "iopub.status.busy": "2023-03-10T19:07:54.335510Z",
     "iopub.status.idle": "2023-03-10T19:07:55.293511Z",
     "shell.execute_reply": "2023-03-10T19:07:55.292253Z"
    },
    "papermill": {
     "duration": 0.966873,
     "end_time": "2023-03-10T19:07:55.296565",
     "exception": false,
     "start_time": "2023-03-10T19:07:54.329692",
     "status": "completed"
    },
    "tags": []
   },
   "outputs": [],
   "source": [
    "from sklearn.preprocessing import MinMaxScaler, StandardScaler\n",
    "\n",
    "scaler = MinMaxScaler()\n",
    " \n",
    "coffee_scaled = scaler.fit_transform(coffee_simple.to_numpy())\n",
    "coffee_scaled = pd.DataFrame(coffee_scaled, columns=['rating', 'price'])\n",
    "\n",
    "scaler2 = StandardScaler()\n",
    "\n",
    "coffee = scaler2.fit_transform(coffee_scaled.to_numpy())\n",
    "coffee = pd.DataFrame(coffee, columns=['rating', 'price'])\n",
    "\n"
   ]
  },
  {
   "cell_type": "code",
   "execution_count": 6,
   "id": "7e2e80d7",
   "metadata": {
    "execution": {
     "iopub.execute_input": "2023-03-10T19:07:55.307371Z",
     "iopub.status.busy": "2023-03-10T19:07:55.306990Z",
     "iopub.status.idle": "2023-03-10T19:07:55.331018Z",
     "shell.execute_reply": "2023-03-10T19:07:55.330036Z"
    },
    "papermill": {
     "duration": 0.032512,
     "end_time": "2023-03-10T19:07:55.333516",
     "exception": false,
     "start_time": "2023-03-10T19:07:55.301004",
     "status": "completed"
    },
    "tags": []
   },
   "outputs": [
    {
     "data": {
      "text/html": [
       "<div>\n",
       "<style scoped>\n",
       "    .dataframe tbody tr th:only-of-type {\n",
       "        vertical-align: middle;\n",
       "    }\n",
       "\n",
       "    .dataframe tbody tr th {\n",
       "        vertical-align: top;\n",
       "    }\n",
       "\n",
       "    .dataframe thead th {\n",
       "        text-align: right;\n",
       "    }\n",
       "</style>\n",
       "<table border=\"1\" class=\"dataframe\">\n",
       "  <thead>\n",
       "    <tr style=\"text-align: right;\">\n",
       "      <th></th>\n",
       "      <th>rating</th>\n",
       "      <th>price</th>\n",
       "    </tr>\n",
       "  </thead>\n",
       "  <tbody>\n",
       "    <tr>\n",
       "      <th>0</th>\n",
       "      <td>0.785714</td>\n",
       "      <td>0.107446</td>\n",
       "    </tr>\n",
       "    <tr>\n",
       "      <th>1</th>\n",
       "      <td>0.714286</td>\n",
       "      <td>0.067570</td>\n",
       "    </tr>\n",
       "    <tr>\n",
       "      <th>2</th>\n",
       "      <td>0.571429</td>\n",
       "      <td>0.034655</td>\n",
       "    </tr>\n",
       "    <tr>\n",
       "      <th>3</th>\n",
       "      <td>0.571429</td>\n",
       "      <td>0.030796</td>\n",
       "    </tr>\n",
       "    <tr>\n",
       "      <th>4</th>\n",
       "      <td>0.714286</td>\n",
       "      <td>0.035790</td>\n",
       "    </tr>\n",
       "  </tbody>\n",
       "</table>\n",
       "</div>"
      ],
      "text/plain": [
       "     rating     price\n",
       "0  0.785714  0.107446\n",
       "1  0.714286  0.067570\n",
       "2  0.571429  0.034655\n",
       "3  0.571429  0.030796\n",
       "4  0.714286  0.035790"
      ]
     },
     "execution_count": 6,
     "metadata": {},
     "output_type": "execute_result"
    }
   ],
   "source": [
    "coffee_scaled.head()"
   ]
  },
  {
   "cell_type": "code",
   "execution_count": 7,
   "id": "c3c1af09",
   "metadata": {
    "execution": {
     "iopub.execute_input": "2023-03-10T19:07:55.344543Z",
     "iopub.status.busy": "2023-03-10T19:07:55.344124Z",
     "iopub.status.idle": "2023-03-10T19:07:55.354268Z",
     "shell.execute_reply": "2023-03-10T19:07:55.353457Z"
    },
    "papermill": {
     "duration": 0.01802,
     "end_time": "2023-03-10T19:07:55.356306",
     "exception": false,
     "start_time": "2023-03-10T19:07:55.338286",
     "status": "completed"
    },
    "tags": []
   },
   "outputs": [
    {
     "data": {
      "text/html": [
       "<div>\n",
       "<style scoped>\n",
       "    .dataframe tbody tr th:only-of-type {\n",
       "        vertical-align: middle;\n",
       "    }\n",
       "\n",
       "    .dataframe tbody tr th {\n",
       "        vertical-align: top;\n",
       "    }\n",
       "\n",
       "    .dataframe thead th {\n",
       "        text-align: right;\n",
       "    }\n",
       "</style>\n",
       "<table border=\"1\" class=\"dataframe\">\n",
       "  <thead>\n",
       "    <tr style=\"text-align: right;\">\n",
       "      <th></th>\n",
       "      <th>rating</th>\n",
       "      <th>price</th>\n",
       "    </tr>\n",
       "  </thead>\n",
       "  <tbody>\n",
       "    <tr>\n",
       "      <th>0</th>\n",
       "      <td>1.206871</td>\n",
       "      <td>0.437235</td>\n",
       "    </tr>\n",
       "    <tr>\n",
       "      <th>1</th>\n",
       "      <td>0.566933</td>\n",
       "      <td>-0.023916</td>\n",
       "    </tr>\n",
       "    <tr>\n",
       "      <th>2</th>\n",
       "      <td>-0.712943</td>\n",
       "      <td>-0.404563</td>\n",
       "    </tr>\n",
       "    <tr>\n",
       "      <th>3</th>\n",
       "      <td>-0.712943</td>\n",
       "      <td>-0.449190</td>\n",
       "    </tr>\n",
       "    <tr>\n",
       "      <th>4</th>\n",
       "      <td>0.566933</td>\n",
       "      <td>-0.391437</td>\n",
       "    </tr>\n",
       "  </tbody>\n",
       "</table>\n",
       "</div>"
      ],
      "text/plain": [
       "     rating     price\n",
       "0  1.206871  0.437235\n",
       "1  0.566933 -0.023916\n",
       "2 -0.712943 -0.404563\n",
       "3 -0.712943 -0.449190\n",
       "4  0.566933 -0.391437"
      ]
     },
     "execution_count": 7,
     "metadata": {},
     "output_type": "execute_result"
    }
   ],
   "source": [
    "coffee.head()"
   ]
  },
  {
   "cell_type": "code",
   "execution_count": 8,
   "id": "a72570ee",
   "metadata": {
    "execution": {
     "iopub.execute_input": "2023-03-10T19:07:55.367263Z",
     "iopub.status.busy": "2023-03-10T19:07:55.366902Z",
     "iopub.status.idle": "2023-03-10T19:07:55.621286Z",
     "shell.execute_reply": "2023-03-10T19:07:55.620069Z"
    },
    "papermill": {
     "duration": 0.262893,
     "end_time": "2023-03-10T19:07:55.623916",
     "exception": false,
     "start_time": "2023-03-10T19:07:55.361023",
     "status": "completed"
    },
    "tags": []
   },
   "outputs": [
    {
     "data": {
      "image/png": "[encoded data removed]",
      "text/plain": [
       "<Figure size 640x480 with 1 Axes>"
      ]
     },
     "metadata": {},
     "output_type": "display_data"
    }
   ],
   "source": [
    "import matplotlib.pyplot as plt\n",
    "\n",
    "plt.scatter(coffee_scaled.rating, coffee_scaled.price)\n",
    " \n",
    "plt.xlabel('rating', fontsize = 20)\n",
    " \n",
    "plt.ylabel('price', fontsize = 20)\n",
    " \n",
    "plt.show()"
   ]
  },
  {
   "cell_type": "markdown",
   "id": "bfd3ba94",
   "metadata": {
    "papermill": {
     "duration": 0.004876,
     "end_time": "2023-03-10T19:07:55.634069",
     "exception": false,
     "start_time": "2023-03-10T19:07:55.629193",
     "status": "completed"
    },
    "tags": []
   },
   "source": [
    "# Training and Test Set"
   ]
  },
  {
   "cell_type": "code",
   "execution_count": 9,
   "id": "8f7b2c7f",
   "metadata": {
    "execution": {
     "iopub.execute_input": "2023-03-10T19:07:55.646300Z",
     "iopub.status.busy": "2023-03-10T19:07:55.645865Z",
     "iopub.status.idle": "2023-03-10T19:07:55.715034Z",
     "shell.execute_reply": "2023-03-10T19:07:55.713763Z"
    },
    "papermill": {
     "duration": 0.078598,
     "end_time": "2023-03-10T19:07:55.717969",
     "exception": false,
     "start_time": "2023-03-10T19:07:55.639371",
     "status": "completed"
    },
    "tags": []
   },
   "outputs": [],
   "source": [
    "from sklearn.model_selection import train_test_split\n",
    "\n",
    "y = coffee_scaled.price\n",
    "\n",
    "X = coffee_scaled.drop(columns=['price'])\n",
    "\n",
    "X_train, X_val, y_train, y_val = train_test_split(X, y, train_size=0.8, test_size=0.2, random_state=0)"
   ]
  },
  {
   "cell_type": "markdown",
   "id": "291819c6",
   "metadata": {
    "papermill": {
     "duration": 0.004958,
     "end_time": "2023-03-10T19:07:55.728394",
     "exception": false,
     "start_time": "2023-03-10T19:07:55.723436",
     "status": "completed"
    },
    "tags": []
   },
   "source": [
    "# Testing Linear Regression"
   ]
  },
  {
   "cell_type": "code",
   "execution_count": 10,
   "id": "eaa4b3e4",
   "metadata": {
    "execution": {
     "iopub.execute_input": "2023-03-10T19:07:55.741106Z",
     "iopub.status.busy": "2023-03-10T19:07:55.740668Z",
     "iopub.status.idle": "2023-03-10T19:07:55.973190Z",
     "shell.execute_reply": "2023-03-10T19:07:55.971790Z"
    },
    "papermill": {
     "duration": 0.242555,
     "end_time": "2023-03-10T19:07:55.976169",
     "exception": false,
     "start_time": "2023-03-10T19:07:55.733614",
     "status": "completed"
    },
    "tags": []
   },
   "outputs": [],
   "source": [
    "from sklearn.tree import DecisionTreeRegressor\n",
    "\n",
    "r = DecisionTreeRegressor(random_state=0)\n",
    "\n",
    "r.fit(X_train, y_train)\n",
    "\n",
    "y_pred = r.predict(X_val)"
   ]
  },
  {
   "cell_type": "code",
   "execution_count": 11,
   "id": "7f4bc14e",
   "metadata": {
    "execution": {
     "iopub.execute_input": "2023-03-10T19:07:55.988943Z",
     "iopub.status.busy": "2023-03-10T19:07:55.988098Z",
     "iopub.status.idle": "2023-03-10T19:07:56.001764Z",
     "shell.execute_reply": "2023-03-10T19:07:55.998757Z"
    },
    "papermill": {
     "duration": 0.022793,
     "end_time": "2023-03-10T19:07:56.004210",
     "exception": false,
     "start_time": "2023-03-10T19:07:55.981417",
     "status": "completed"
    },
    "tags": []
   },
   "outputs": [
    {
     "name": "stdout",
     "output_type": "stream",
     "text": [
      "Mean absolute error = 0.04\n",
      "Mean squared error = 0.01\n",
      "Median absolute error = 0.02\n",
      "Explain variance score = 0.03\n",
      "R2 score = 0.03\n"
     ]
    }
   ],
   "source": [
    "import sklearn.metrics as sm\n",
    "\n",
    "print(\"Mean absolute error =\", round(sm.mean_absolute_error(y_val, y_pred), 2)) \n",
    "print(\"Mean squared error =\", round(sm.mean_squared_error(y_val, y_pred), 2)) \n",
    "print(\"Median absolute error =\", round(sm.median_absolute_error(y_val, y_pred), 2)) \n",
    "print(\"Explain variance score =\", round(sm.explained_variance_score(y_val, y_pred), 2)) \n",
    "print(\"R2 score =\", round(sm.r2_score(y_val, y_pred), 2))"
   ]
  }
 ],
 "metadata": {
  "kernelspec": {
   "display_name": "Python 3",
   "language": "python",
   "name": "python3"
  },
  "language_info": {
   "codemirror_mode": {
    "name": "ipython",
    "version": 3
   },
   "file_extension": ".py",
   "mimetype": "text/x-python",
   "name": "python",
   "nbconvert_exporter": "python",
   "pygments_lexer": "ipython3",
   "version": "3.7.12"
  },
  "papermill": {
   "default_parameters": {},
   "duration": 12.738744,
   "end_time": "2023-03-10T19:07:56.731959",
   "environment_variables": {},
   "exception": null,
   "input_path": "__notebook__.ipynb",
   "output_path": "__notebook__.ipynb",
   "parameters": {},
   "start_time": "2023-03-10T19:07:43.993215",
   "version": "2.4.0"
  }
 },
 "nbformat": 4,
 "nbformat_minor": 5
}
